{
 "cells": [
  {
   "cell_type": "code",
   "execution_count": 1,
   "metadata": {},
   "outputs": [],
   "source": [
    "import math\n",
    "import os\n",
    "import time\n",
    "import sys\n",
    "import numpy as np\n",
    "import mxnet as mx\n",
    "import matplotlib.pyplot as plt\n",
    "from mxnet import gluon, autograd\n",
    "from mxnet.gluon import nn, rnn\n",
    "\n",
    "\n",
    "#let's use cpu for now\n",
    "context = mx.cpu()"
   ]
  },
  {
   "cell_type": "code",
   "execution_count": 2,
   "metadata": {},
   "outputs": [],
   "source": [
    "# module imports\n",
    "from NLP.src.training import model, training, utils\n",
    "from NLP.src.decoder import decoder\n",
    "from NLP.src.pre_processing import pre_process"
   ]
  },
  {
   "cell_type": "markdown",
   "metadata": {},
   "source": [
    "# Create a sequence\n",
    "We don't want the sequence to be completely random, otherwise the RNN won't be able to learn much\n",
    "\n",
    "When we got a word sequence, we need to map each unique word to an integer and the integer sequence will be fed into the neural net"
   ]
  },
  {
   "cell_type": "code",
   "execution_count": 4,
   "metadata": {},
   "outputs": [],
   "source": [
    "seq, word_idx, idx_word = pre_process.pre_process('sample_txt.txt')"
   ]
  },
  {
   "cell_type": "code",
   "execution_count": 5,
   "metadata": {
    "scrolled": true
   },
   "outputs": [],
   "source": [
    "seq = mx.nd.array(seq, ctx=context)\n",
    "vocab_size = len(word_idx)"
   ]
  },
  {
   "cell_type": "code",
   "execution_count": 7,
   "metadata": {},
   "outputs": [
    {
     "data": {
      "text/plain": [
       "\n",
       "[2384. 1852. 2001. ... 2446. 1938. 1929.]\n",
       "<NDArray 9323 @cpu(0)>"
      ]
     },
     "execution_count": 7,
     "metadata": {},
     "output_type": "execute_result"
    }
   ],
   "source": [
    "seq"
   ]
  },
  {
   "cell_type": "markdown",
   "metadata": {},
   "source": [
    "# DL portion"
   ]
  },
  {
   "cell_type": "code",
   "execution_count": 9,
   "metadata": {},
   "outputs": [
    {
     "name": "stdout",
     "output_type": "stream",
     "text": [
      "batchified data:  \n",
      "[[2384. 1457.  187. ... 2384.  228. 2384.]\n",
      " [1852. 2727. 1975. ... 2723. 2687. 2321.]\n",
      " [2001. 2384. 2155. ... 2658.   13. 2599.]\n",
      " ...\n",
      " [2106.  803. 1278. ... 1728.  812. 1929.]\n",
      " [2134. 1916. 2580. ... 2162. 2599. 2722.]\n",
      " [ 352. 2722. 2170. ... 2090. 1000. 1967.]]\n",
      "<NDArray 291x32 @cpu(0)>\n",
      "first batch:  (\n",
      "[[2384. 1457.  187.  539.  181. 2638. 1702.  537. 1068.  914. 2687. 2638.\n",
      "   349.   47. 2054. 1830.  683. 1000. 1736.  437. 2384. 2083. 2687.   29.\n",
      "   921. 2239. 1039. 2296.  235. 2384.  228. 2384.]]\n",
      "<NDArray 1x32 @cpu(0)>, \n",
      "[1852. 2727. 1975. 1156. 1237.   38.  725.  703. 2384.  918. 2231.   38.\n",
      " 1631. 2604. 2740. 1289. 1234.  812. 1000. 2722. 1693. 2638. 2384. 2567.\n",
      " 1000. 2307.  133. 2341.   38. 2723. 2687. 2321.]\n",
      "<NDArray 32 @cpu(0)>)\n"
     ]
    }
   ],
   "source": [
    "x = utils.batchify(seq, 32)\n",
    "print('batchified data: ', x)\n",
    "y = utils.get_batch(x, 0)\n",
    "print('first batch: ', y)"
   ]
  },
  {
   "cell_type": "markdown",
   "metadata": {},
   "source": [
    "### training loop"
   ]
  },
  {
   "cell_type": "markdown",
   "metadata": {},
   "source": [
    "## Prepare for training"
   ]
  },
  {
   "cell_type": "code",
   "execution_count": 10,
   "metadata": {},
   "outputs": [],
   "source": [
    "#model constants\n",
    "num_embed = 5\n",
    "num_hidden = 5\n",
    "num_layers = 2\n",
    "\n",
    "#training constants\n",
    "args_lr = 1\n",
    "args_epochs = 30\n",
    "args_batch_size = 32"
   ]
  },
  {
   "cell_type": "code",
   "execution_count": 11,
   "metadata": {},
   "outputs": [],
   "source": [
    "train_data = utils.batchify(seq, args_batch_size).as_in_context(context)"
   ]
  },
  {
   "cell_type": "code",
   "execution_count": 12,
   "metadata": {},
   "outputs": [],
   "source": [
    "# define model and loss\n",
    "# we do dropout=0 here to promote overfitting, on real data we might want a positive value\n",
    "model_ = model.RNNModel(mode='gru', vocab_size=vocab_size, num_embed=num_embed, num_hidden=num_hidden,\n",
    "                 num_layers=num_layers, dropout=0)\n",
    "model_.collect_params().initialize(mx.init.Xavier(), ctx=context)\n",
    "trainer = gluon.Trainer(model_.collect_params(), 'sgd',\n",
    "                        {'learning_rate': args_lr, 'momentum': 0, 'wd': 0})\n",
    "loss = gluon.loss.SoftmaxCrossEntropyLoss()"
   ]
  },
  {
   "cell_type": "code",
   "execution_count": 13,
   "metadata": {},
   "outputs": [
    {
     "data": {
      "text/plain": [
       "[314, 1975]"
      ]
     },
     "execution_count": 13,
     "metadata": {},
     "output_type": "execute_result"
    }
   ],
   "source": [
    "seed_list = ('he is').split(' ')\n",
    "seed_seq = [word_idx[w] for w in seed_list]\n",
    "seed_seq"
   ]
  },
  {
   "cell_type": "code",
   "execution_count": 14,
   "metadata": {},
   "outputs": [
    {
     "data": {
      "text/plain": [
       "'giammai fee create synonymous distributor keen padding permanent subtlety evenings'"
      ]
     },
     "execution_count": 14,
     "metadata": {},
     "output_type": "execute_result"
    }
   ],
   "source": [
    "decoder_greedy = decoder.Decoder(model_, context=context)\n",
    "seq_output, _ = decoder_greedy.decode(seed_seq, 10)\n",
    "' '.join([idx_word[idx] for idx in seq_output])"
   ]
  },
  {
   "cell_type": "markdown",
   "metadata": {},
   "source": [
    "# Finally, train the RNN"
   ]
  },
  {
   "cell_type": "code",
   "execution_count": 15,
   "metadata": {},
   "outputs": [
    {
     "name": "stdout",
     "output_type": "stream",
     "text": [
      "[Epoch 50] loss 5.06\r"
     ]
    },
    {
     "data": {
      "image/png": "[encoded data removed]",
      "text/plain": [
       "<Figure size 432x288 with 1 Axes>"
      ]
     },
     "metadata": {
      "needs_background": "light"
     },
     "output_type": "display_data"
    }
   ],
   "source": [
    "# finally train the model\n",
    "trainer = gluon.Trainer(model_.collect_params(), 'sgd',\n",
    "                        {'learning_rate': 1, 'wd': 0})\n",
    "args_epochs = 50\n",
    "training.train(train_data=train_data, model=model_, trainer=trainer, \n",
    "               loss=loss, args_epochs=args_epochs, args_batch_size=args_batch_size,\n",
    "                context=context)"
   ]
  },
  {
   "cell_type": "markdown",
   "metadata": {},
   "source": [
    "# Decoder, use the RNN we just learned to generate a sequence\n",
    "\n",
    "## Here we just use a gready decoder, may do something fancier later"
   ]
  },
  {
   "cell_type": "code",
   "execution_count": 16,
   "metadata": {},
   "outputs": [
    {
     "data": {
      "text/plain": [
       "[314, 1975]"
      ]
     },
     "execution_count": 16,
     "metadata": {},
     "output_type": "execute_result"
    }
   ],
   "source": [
    "seed_list = ('he is').split(' ')\n",
    "seed_seq = [word_idx[w] for w in seed_list]\n",
    "seed_seq"
   ]
  },
  {
   "cell_type": "code",
   "execution_count": 20,
   "metadata": {},
   "outputs": [
    {
     "data": {
      "text/plain": [
       "'he is agreed to refund i provide the highest giving a terms of steam all the terms of weave the door he'"
      ]
     },
     "execution_count": 20,
     "metadata": {},
     "output_type": "execute_result"
    }
   ],
   "source": [
    "decoder_sample = decoder.Decoder(model_, mode='sample', n=100, context=context)\n",
    "seq_output, ppensity = decoder_sample.decode(seed_seq, 20)\n",
    "' '.join([idx_word[idx] for idx in seed_seq + seq_output])"
   ]
  },
  {
   "cell_type": "markdown",
   "metadata": {},
   "source": [
    "# Auxiliary cells, don't read"
   ]
  },
  {
   "cell_type": "code",
   "execution_count": null,
   "metadata": {},
   "outputs": [],
   "source": [
    "embed = model_.encoder.weight.data()\n",
    "norms = (embed**2).sum(axis = 1)\n",
    "norms = norms.asnumpy()\n",
    "plt.plot(np.arange(vocab_size), norms)"
   ]
  },
  {
   "cell_type": "code",
   "execution_count": null,
   "metadata": {},
   "outputs": [],
   "source": [
    "norms[1171]"
   ]
  },
  {
   "cell_type": "code",
   "execution_count": null,
   "metadata": {},
   "outputs": [],
   "source": [
    "embed[877], norms[877]"
   ]
  },
  {
   "cell_type": "code",
   "execution_count": null,
   "metadata": {},
   "outputs": [],
   "source": [
    "seed = mx.nd.array([[0]])\n",
    "seq_length = 50\n",
    "\n",
    "hidden = model.begin_state(func=mx.nd.zeros, batch_size=1, ctx=context)\n",
    "output, hidden = model(seed, hidden)\n",
    "plt.plot(np.arange(vocab_size), output[0].asnumpy())"
   ]
  }
 ],
 "metadata": {
  "kernelspec": {
   "display_name": "Python 3",
   "language": "python",
   "name": "python3"
  },
  "language_info": {
   "codemirror_mode": {
    "name": "ipython",
    "version": 3
   },
   "file_extension": ".py",
   "mimetype": "text/x-python",
   "name": "python",
   "nbconvert_exporter": "python",
   "pygments_lexer": "ipython3",
   "version": "3.7.6"
  }
 },
 "nbformat": 4,
 "nbformat_minor": 4
}
