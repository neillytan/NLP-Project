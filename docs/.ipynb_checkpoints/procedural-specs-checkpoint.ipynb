{
 "cells": [
  {
   "cell_type": "markdown",
   "metadata": {},
   "source": [
    "## CSE583: Natural Language Processing\n",
    "#### Zhan Shi, Neilly Herrera Tan, Angel Burr"
   ]
  },
  {
   "cell_type": "markdown",
   "metadata": {},
   "source": [
    "### Procedural specification\n",
    "####  Background\n",
    "Natural language processing affords new possibilities for sentiment analysis of text. This is especially beneficial in everyday scenarios when interacting with any chatbot: for example, when asking Siri for weather updates or interfacing with a customer service bot. \n",
    "\n",
    "To this end, we seek to investigate how to better understand natural language processing. Our main problem being addressed is how to generate fake text that effectively matches the style of an input corpus. This program will specifically generate novel poems based on trained datasets of poems by different authors.\n",
    "\n",
    "#### User profile\n",
    "Someone who wants to generate any fake text and who wants to know a little bit more about natural language processing. This user will have a basic knowledge of Python, and is able to run the program using CLI. \n",
    "\n",
    "\n",
    "#### Data sources\n",
    "We will use input data from a collection of poems via Project Gutenberg, on their poetry bookshelf: http://www.gutenberg.org/ebooks/bookshelf/60 \n",
    "Poems by TS Eliot:  http://www.gutenberg.org/cache/epub/1567/pg1567.txt\n",
    "Poems by John Keats: http://www.gutenberg.org/cache/epub/2490/pg2490.txt\n",
    "Poems by Emily Dickinson: http://www.gutenberg.org/cache/epub/2678/pg2678.txt\n",
    "\n",
    "#### Use case \n",
    "The main use case for this program is for generating fake text. Our program takes an input of some text, and outputs a wall of fake text with similar sentiment to the input text. \n",
    "User input: A few paragraphs of text such as poems from various authors.\n",
    "Output: Computer generated fake text that mimics the style of the input text.\n",
    "\n",
    "This text generator program is meant for fun. With a more advanced program, a person may be able to generate greeting cards or fortune cookies based on larger or smaller text inputs. These examples are implications for future work. For class purposes, our program may not be advanced enough to generate meaningful text in this manner.\n"
   ]
  }
 ],
 "metadata": {
  "kernelspec": {
   "display_name": "Python 3",
   "language": "python",
   "name": "python3"
  },
  "language_info": {
   "codemirror_mode": {
    "name": "ipython",
    "version": 3
   },
   "file_extension": ".py",
   "mimetype": "text/x-python",
   "name": "python",
   "nbconvert_exporter": "python",
   "pygments_lexer": "ipython3",
   "version": "3.6.5"
  }
 },
 "nbformat": 4,
 "nbformat_minor": 2
}
