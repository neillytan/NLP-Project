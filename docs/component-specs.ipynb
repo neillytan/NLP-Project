{
 "cells": [
  {
   "cell_type": "markdown",
   "metadata": {},
   "source": [
    "## CSE583: Natural Language Processing\n",
    "#### Zhan Shi, Neilly Herrera Tan, Angel Burr"
   ]
  },
  {
   "cell_type": "markdown",
   "metadata": {},
   "source": [
    "Component flowchart:"
   ]
  },
  {
   "cell_type": "markdown",
   "metadata": {},
   "source": [
    "<img src= \"component-flowchart.jpeg\">"
   ]
  },
  {
   "cell_type": "markdown",
   "metadata": {},
   "source": [
    "#### Preprocessing\n",
    "Using NLTK, preprocess the input text with 4 main functions in mind:\n",
    "1. Tokenize the input.\n",
    "2. Indexing\n",
    "3. Generate <EndOfSentence> tokens\n",
    "4. Break token list into pieces based on <EOS> tokens for batch training\n",
    "\n",
    "\n",
    "\n",
    "#### Training\n",
    "Train the language model with the input given, containing two parts:\n",
    "1. Initializing the embedding matrix with pre-trained vectors (using gensim) when available, otherwise start at random.\n",
    "2. Train the LSTM model\n",
    "\n",
    "\n",
    "#### Decoding\n",
    "Decode the language model with pytorch to generate fake text. With both greedy method and top k random sampling method in mind."
   ]
  }
 ],
 "metadata": {
  "kernelspec": {
   "display_name": "Python 3",
   "language": "python",
   "name": "python3"
  },
  "language_info": {
   "codemirror_mode": {
    "name": "ipython",
    "version": 3
   },
   "file_extension": ".py",
   "mimetype": "text/x-python",
   "name": "python",
   "nbconvert_exporter": "python",
   "pygments_lexer": "ipython3",
   "version": "3.6.5"
  }
 },
 "nbformat": 4,
 "nbformat_minor": 2
}
